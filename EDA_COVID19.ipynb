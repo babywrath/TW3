{
 "cells": [
  {
   "cell_type": "markdown",
   "metadata": {},
   "source": [
    "# TW3 Exploratory Data Analysis"
   ]
  },
  {
   "cell_type": "markdown",
   "metadata": {},
   "source": [
    "#### Bart Nadala, Maason Kao, Zachary Jeffreys\n",
    "#### 10/10/2021\n",
    "\n",
    "#### Submission:\n",
    "\n",
    "- Push the completed code to your Github repository.\n",
    "\n",
    "- See more information in Canvas. "
   ]
  },
  {
   "cell_type": "markdown",
   "metadata": {},
   "source": [
    "## Part 0: \n",
    "    \n",
    "The following Git repository is for the COVID-19 visual dashboard operated by the Johns Hopkins University Center for Systems Science and Engineering: \n",
    "\n",
    "https://github.com/CSSEGISandData/COVID-19\n",
    "\n",
    "- Read the information on the dashboard and check the datasets details\n",
    "\n",
    "- Datasets are located in a folder: csse_covid_19_data\n",
    "\n",
    "We will walk through the code and see how Python Pandas functions are used to process the data. \n"
   ]
  },
  {
   "cell_type": "markdown",
   "metadata": {},
   "source": [
    "##### The example below is COVID19 cases in the US. \n",
    "\n",
    "- We download two files but they seem the same. Let's use the file for confirmed cases. "
   ]
  },
  {
   "cell_type": "code",
   "execution_count": 5,
   "metadata": {},
   "outputs": [
    {
     "name": "stdout",
     "output_type": "stream",
     "text": [
      "Downloading time_series_covid19_confirmed_US.csv\n",
      "Downloading time_series_covid19_deaths_US.csv\n"
     ]
    }
   ],
   "source": [
    "# Download the data from the Web\n",
    "\n",
    "import os\n",
    "datapath = os.path.join(\"csse_covid_19_data\", \"csse_covid_19_data\", \"\")\n",
    "\n",
    "import urllib\n",
    "\n",
    "DOWNLOAD_ROOT = \"https://raw.githubusercontent.com/CSSEGISandData/COVID-19/master/csse_covid_19_data/csse_covid_19_time_series/time_series_covid19_confirmed_US.csv\"\n",
    "os.makedirs(datapath, exist_ok=True)\n",
    "\n",
    "for filename in (\"time_series_covid19_confirmed_US.csv\",\"time_series_covid19_deaths_US.csv\"):\n",
    "    print(\"Downloading\", filename)\n",
    "    url = DOWNLOAD_ROOT + \"csse_covid_19_data/csse_covid_19_data/\" + filename\n",
    "    urllib.request.urlretrieve(DOWNLOAD_ROOT, datapath + filename)"
   ]
  },
  {
   "cell_type": "code",
   "execution_count": 6,
   "metadata": {},
   "outputs": [],
   "source": [
    "# import necessary packages and modules\n",
    "\n",
    "%matplotlib inline\n",
    "\n",
    "import pandas as pd\n",
    "import matplotlib.pyplot as plt"
   ]
  },
  {
   "cell_type": "markdown",
   "metadata": {},
   "source": [
    "### Read data"
   ]
  },
  {
   "cell_type": "code",
   "execution_count": 7,
   "metadata": {},
   "outputs": [
    {
     "data": {
      "text/html": [
       "<div>\n",
       "<style scoped>\n",
       "    .dataframe tbody tr th:only-of-type {\n",
       "        vertical-align: middle;\n",
       "    }\n",
       "\n",
       "    .dataframe tbody tr th {\n",
       "        vertical-align: top;\n",
       "    }\n",
       "\n",
       "    .dataframe thead th {\n",
       "        text-align: right;\n",
       "    }\n",
       "</style>\n",
       "<table border=\"1\" class=\"dataframe\">\n",
       "  <thead>\n",
       "    <tr style=\"text-align: right;\">\n",
       "      <th></th>\n",
       "      <th>UID</th>\n",
       "      <th>iso2</th>\n",
       "      <th>iso3</th>\n",
       "      <th>code3</th>\n",
       "      <th>FIPS</th>\n",
       "      <th>Admin2</th>\n",
       "      <th>Province_State</th>\n",
       "      <th>Country_Region</th>\n",
       "      <th>Lat</th>\n",
       "      <th>Long_</th>\n",
       "      <th>...</th>\n",
       "      <th>9/30/21</th>\n",
       "      <th>10/1/21</th>\n",
       "      <th>10/2/21</th>\n",
       "      <th>10/3/21</th>\n",
       "      <th>10/4/21</th>\n",
       "      <th>10/5/21</th>\n",
       "      <th>10/6/21</th>\n",
       "      <th>10/7/21</th>\n",
       "      <th>10/8/21</th>\n",
       "      <th>10/9/21</th>\n",
       "    </tr>\n",
       "  </thead>\n",
       "  <tbody>\n",
       "    <tr>\n",
       "      <th>0</th>\n",
       "      <td>84001001</td>\n",
       "      <td>US</td>\n",
       "      <td>USA</td>\n",
       "      <td>840</td>\n",
       "      <td>1001.0</td>\n",
       "      <td>Autauga</td>\n",
       "      <td>Alabama</td>\n",
       "      <td>US</td>\n",
       "      <td>32.539527</td>\n",
       "      <td>-86.644082</td>\n",
       "      <td>...</td>\n",
       "      <td>9744</td>\n",
       "      <td>9761</td>\n",
       "      <td>9777</td>\n",
       "      <td>9780</td>\n",
       "      <td>9790</td>\n",
       "      <td>9799</td>\n",
       "      <td>9810</td>\n",
       "      <td>9826</td>\n",
       "      <td>9839</td>\n",
       "      <td>9843</td>\n",
       "    </tr>\n",
       "    <tr>\n",
       "      <th>1</th>\n",
       "      <td>84001003</td>\n",
       "      <td>US</td>\n",
       "      <td>USA</td>\n",
       "      <td>840</td>\n",
       "      <td>1003.0</td>\n",
       "      <td>Baldwin</td>\n",
       "      <td>Alabama</td>\n",
       "      <td>US</td>\n",
       "      <td>30.727750</td>\n",
       "      <td>-87.722071</td>\n",
       "      <td>...</td>\n",
       "      <td>36447</td>\n",
       "      <td>36491</td>\n",
       "      <td>36542</td>\n",
       "      <td>36579</td>\n",
       "      <td>36602</td>\n",
       "      <td>36697</td>\n",
       "      <td>36734</td>\n",
       "      <td>36780</td>\n",
       "      <td>36814</td>\n",
       "      <td>36870</td>\n",
       "    </tr>\n",
       "    <tr>\n",
       "      <th>2</th>\n",
       "      <td>84001005</td>\n",
       "      <td>US</td>\n",
       "      <td>USA</td>\n",
       "      <td>840</td>\n",
       "      <td>1005.0</td>\n",
       "      <td>Barbour</td>\n",
       "      <td>Alabama</td>\n",
       "      <td>US</td>\n",
       "      <td>31.868263</td>\n",
       "      <td>-85.387129</td>\n",
       "      <td>...</td>\n",
       "      <td>3490</td>\n",
       "      <td>3495</td>\n",
       "      <td>3512</td>\n",
       "      <td>3519</td>\n",
       "      <td>3521</td>\n",
       "      <td>3524</td>\n",
       "      <td>3527</td>\n",
       "      <td>3536</td>\n",
       "      <td>3541</td>\n",
       "      <td>3545</td>\n",
       "    </tr>\n",
       "    <tr>\n",
       "      <th>3</th>\n",
       "      <td>84001007</td>\n",
       "      <td>US</td>\n",
       "      <td>USA</td>\n",
       "      <td>840</td>\n",
       "      <td>1007.0</td>\n",
       "      <td>Bibb</td>\n",
       "      <td>Alabama</td>\n",
       "      <td>US</td>\n",
       "      <td>32.996421</td>\n",
       "      <td>-87.125115</td>\n",
       "      <td>...</td>\n",
       "      <td>4131</td>\n",
       "      <td>4146</td>\n",
       "      <td>4153</td>\n",
       "      <td>4157</td>\n",
       "      <td>4163</td>\n",
       "      <td>4167</td>\n",
       "      <td>4168</td>\n",
       "      <td>4176</td>\n",
       "      <td>4184</td>\n",
       "      <td>4192</td>\n",
       "    </tr>\n",
       "    <tr>\n",
       "      <th>4</th>\n",
       "      <td>84001009</td>\n",
       "      <td>US</td>\n",
       "      <td>USA</td>\n",
       "      <td>840</td>\n",
       "      <td>1009.0</td>\n",
       "      <td>Blount</td>\n",
       "      <td>Alabama</td>\n",
       "      <td>US</td>\n",
       "      <td>33.982109</td>\n",
       "      <td>-86.567906</td>\n",
       "      <td>...</td>\n",
       "      <td>9818</td>\n",
       "      <td>9842</td>\n",
       "      <td>9860</td>\n",
       "      <td>9870</td>\n",
       "      <td>9878</td>\n",
       "      <td>9923</td>\n",
       "      <td>9941</td>\n",
       "      <td>9957</td>\n",
       "      <td>9970</td>\n",
       "      <td>9998</td>\n",
       "    </tr>\n",
       "  </tbody>\n",
       "</table>\n",
       "<p>5 rows × 638 columns</p>\n",
       "</div>"
      ],
      "text/plain": [
       "        UID iso2 iso3  code3    FIPS   Admin2 Province_State Country_Region  \\\n",
       "0  84001001   US  USA    840  1001.0  Autauga        Alabama             US   \n",
       "1  84001003   US  USA    840  1003.0  Baldwin        Alabama             US   \n",
       "2  84001005   US  USA    840  1005.0  Barbour        Alabama             US   \n",
       "3  84001007   US  USA    840  1007.0     Bibb        Alabama             US   \n",
       "4  84001009   US  USA    840  1009.0   Blount        Alabama             US   \n",
       "\n",
       "         Lat      Long_  ... 9/30/21  10/1/21  10/2/21  10/3/21  10/4/21  \\\n",
       "0  32.539527 -86.644082  ...    9744     9761     9777     9780     9790   \n",
       "1  30.727750 -87.722071  ...   36447    36491    36542    36579    36602   \n",
       "2  31.868263 -85.387129  ...    3490     3495     3512     3519     3521   \n",
       "3  32.996421 -87.125115  ...    4131     4146     4153     4157     4163   \n",
       "4  33.982109 -86.567906  ...    9818     9842     9860     9870     9878   \n",
       "\n",
       "   10/5/21  10/6/21  10/7/21  10/8/21  10/9/21  \n",
       "0     9799     9810     9826     9839     9843  \n",
       "1    36697    36734    36780    36814    36870  \n",
       "2     3524     3527     3536     3541     3545  \n",
       "3     4167     4168     4176     4184     4192  \n",
       "4     9923     9941     9957     9970     9998  \n",
       "\n",
       "[5 rows x 638 columns]"
      ]
     },
     "execution_count": 7,
     "metadata": {},
     "output_type": "execute_result"
    }
   ],
   "source": [
    "# read data\n",
    "df = pd.read_csv(datapath + \"time_series_covid19_confirmed_US.csv\")\n",
    "df.head()"
   ]
  },
  {
   "cell_type": "markdown",
   "metadata": {},
   "source": [
    "#### We select data for two states, Washington and Texas\n",
    "\n",
    "- If you want to select different states, modify this cell and rerun it. "
   ]
  },
  {
   "cell_type": "code",
   "execution_count": 8,
   "metadata": {},
   "outputs": [
    {
     "name": "stdout",
     "output_type": "stream",
     "text": [
      "      1/22/20  1/23/20  1/24/20  1/25/20  1/26/20  1/27/20  1/28/20  1/29/20  \\\n",
      "3145        0        0        0        0        0        0        0        0   \n",
      "3146        0        0        0        0        0        0        0        0   \n",
      "3147        0        0        0        0        0        0        0        0   \n",
      "3148        0        0        0        0        0        0        0        0   \n",
      "3149        0        0        0        0        0        0        0        0   \n",
      "\n",
      "      1/30/20  1/31/20  ...  9/30/21  10/1/21  10/2/21  10/3/21  10/4/21  \\\n",
      "3145        0        0  ...     3023     3043     3043     3043     3073   \n",
      "3146        0        0  ...     2518     2539     2539     2539     2574   \n",
      "3147        0        0  ...    29192    29328    29328    29328    29594   \n",
      "3148        0        0  ...    10089    10131    10131    10131    10230   \n",
      "3149        0        0  ...     4122     4173     4173     4173     4247   \n",
      "\n",
      "      10/5/21  10/6/21  10/7/21  10/8/21  10/9/21  \n",
      "3145     3079     3086     3096     3107     3107  \n",
      "3146     2580     2590     2603     2616     2616  \n",
      "3147    29701    29799    29894    30003    30003  \n",
      "3148    10272    10341    10398    10439    10439  \n",
      "3149     4269     4307     4345     4359     4359  \n",
      "\n",
      "[5 rows x 627 columns]\n",
      "      1/22/20  1/23/20  1/24/20  1/25/20  1/26/20  1/27/20  1/28/20  1/29/20  \\\n",
      "2700        0        0        0        0        0        0        0        0   \n",
      "2701        0        0        0        0        0        0        0        0   \n",
      "2702        0        0        0        0        0        0        0        0   \n",
      "2703        0        0        0        0        0        0        0        0   \n",
      "2704        0        0        0        0        0        0        0        0   \n",
      "\n",
      "      1/30/20  1/31/20  ...  9/30/21  10/1/21  10/2/21  10/3/21  10/4/21  \\\n",
      "2700        0        0  ...     7731     7805     7805     7805     7805   \n",
      "2701        0        0  ...     2665     2688     2688     2688     2688   \n",
      "2702        0        0  ...    13303    13303    13303    13303    13303   \n",
      "2703        0        0  ...     2504     2515     2525     2529     2529   \n",
      "2704        0        0  ...     1086     1093     1100     1100     1100   \n",
      "\n",
      "      10/5/21  10/6/21  10/7/21  10/8/21  10/9/21  \n",
      "2700     7846     7850     7847     7847     7847  \n",
      "2701     2688     2719     2719     2719     2719  \n",
      "2702    13432    13432    13486    13486    13486  \n",
      "2703     2535     2540     2551     2551     2551  \n",
      "2704     1111     1181     1186     1186     1186  \n",
      "\n",
      "[5 rows x 627 columns]\n"
     ]
    },
    {
     "data": {
      "text/plain": [
       "Index(['1/22/20', '1/23/20', '1/24/20', '1/25/20', '1/26/20', '1/27/20',\n",
       "       '1/28/20', '1/29/20', '1/30/20', '1/31/20',\n",
       "       ...\n",
       "       '9/30/21', '10/1/21', '10/2/21', '10/3/21', '10/4/21', '10/5/21',\n",
       "       '10/6/21', '10/7/21', '10/8/21', '10/9/21'],\n",
       "      dtype='object', length=627)"
      ]
     },
     "execution_count": 8,
     "metadata": {},
     "output_type": "execute_result"
    }
   ],
   "source": [
    "# Select the data for Washington and Texas\n",
    "st1 = df.loc[df[\"Province_State\"] == \"Washington\"]\n",
    "st2 = df.loc[df[\"Province_State\"] == \"Texas\"]\n",
    "\n",
    "# drop not-used columns \n",
    "drop_cols = ['UID', 'iso2', 'iso3', 'FIPS', 'Province_State', 'Country_Region', \n",
    "             'Lat', 'Long_', 'code3', 'Combined_Key', 'Admin2']\n",
    "\n",
    "st1 = st1.drop(columns=drop_cols)\n",
    "st2 = st2.drop(columns=drop_cols)\n",
    "\n",
    "print(st1.head())\n",
    "print(st2.head())\n",
    "\n",
    "st1.columns"
   ]
  },
  {
   "cell_type": "markdown",
   "metadata": {},
   "source": [
    "### sum() function\n",
    "\n",
    "- see the examples:\n",
    "    \n",
    "https://pandas.pydata.org/pandas-docs/stable/reference/api/pandas.DataFrame.sum.html"
   ]
  },
  {
   "cell_type": "code",
   "execution_count": 9,
   "metadata": {},
   "outputs": [
    {
     "name": "stdout",
     "output_type": "stream",
     "text": [
      "10/5/21    670207\n",
      "10/6/21    672782\n",
      "10/7/21    675695\n",
      "10/8/21    677995\n",
      "10/9/21    677995\n",
      "dtype: int64\n",
      "10/5/21    4105397\n",
      "10/6/21    4116410\n",
      "10/7/21    4124391\n",
      "10/8/21    4128119\n",
      "10/9/21    4129189\n",
      "dtype: int64\n"
     ]
    }
   ],
   "source": [
    "# sum of column data of rows \n",
    "# columns and rows will be changed\n",
    "# sum() function returns a Series\n",
    "cases_st1 = st1.sum(axis=0)\n",
    "cases_st2 = st2.sum(axis=0)\n",
    "\n",
    "print(cases_st1.tail())\n",
    "print(cases_st2.tail())"
   ]
  },
  {
   "cell_type": "code",
   "execution_count": 10,
   "metadata": {},
   "outputs": [
    {
     "name": "stdout",
     "output_type": "stream",
     "text": [
      "         WA_cases  TX_cases\n",
      "1/22/20         1         0\n",
      "1/23/20         1         0\n",
      "1/24/20         1         0\n",
      "1/25/20         1         0\n",
      "1/26/20         1         0\n",
      "         WA_cases  TX_cases\n",
      "10/5/21    670207   4105397\n",
      "10/6/21    672782   4116410\n",
      "10/7/21    675695   4124391\n",
      "10/8/21    677995   4128119\n",
      "10/9/21    677995   4129189\n"
     ]
    }
   ],
   "source": [
    "# createa a DataFrame of two states' data\n",
    "dict_states = {'WA_cases': cases_st1, 'TX_cases': cases_st2}\n",
    "\n",
    "data = pd.DataFrame(dict_states)\n",
    "\n",
    "print(data.head())\n",
    "print(data.tail())"
   ]
  },
  {
   "cell_type": "code",
   "execution_count": 11,
   "metadata": {},
   "outputs": [
    {
     "data": {
      "text/html": [
       "<div>\n",
       "<style scoped>\n",
       "    .dataframe tbody tr th:only-of-type {\n",
       "        vertical-align: middle;\n",
       "    }\n",
       "\n",
       "    .dataframe tbody tr th {\n",
       "        vertical-align: top;\n",
       "    }\n",
       "\n",
       "    .dataframe thead th {\n",
       "        text-align: right;\n",
       "    }\n",
       "</style>\n",
       "<table border=\"1\" class=\"dataframe\">\n",
       "  <thead>\n",
       "    <tr style=\"text-align: right;\">\n",
       "      <th></th>\n",
       "      <th>index</th>\n",
       "      <th>WA_cases</th>\n",
       "      <th>TX_cases</th>\n",
       "    </tr>\n",
       "  </thead>\n",
       "  <tbody>\n",
       "    <tr>\n",
       "      <th>0</th>\n",
       "      <td>1/22/20</td>\n",
       "      <td>1</td>\n",
       "      <td>0</td>\n",
       "    </tr>\n",
       "    <tr>\n",
       "      <th>1</th>\n",
       "      <td>1/23/20</td>\n",
       "      <td>1</td>\n",
       "      <td>0</td>\n",
       "    </tr>\n",
       "    <tr>\n",
       "      <th>2</th>\n",
       "      <td>1/24/20</td>\n",
       "      <td>1</td>\n",
       "      <td>0</td>\n",
       "    </tr>\n",
       "    <tr>\n",
       "      <th>3</th>\n",
       "      <td>1/25/20</td>\n",
       "      <td>1</td>\n",
       "      <td>0</td>\n",
       "    </tr>\n",
       "    <tr>\n",
       "      <th>4</th>\n",
       "      <td>1/26/20</td>\n",
       "      <td>1</td>\n",
       "      <td>0</td>\n",
       "    </tr>\n",
       "  </tbody>\n",
       "</table>\n",
       "</div>"
      ],
      "text/plain": [
       "     index  WA_cases  TX_cases\n",
       "0  1/22/20         1         0\n",
       "1  1/23/20         1         0\n",
       "2  1/24/20         1         0\n",
       "3  1/25/20         1         0\n",
       "4  1/26/20         1         0"
      ]
     },
     "execution_count": 11,
     "metadata": {},
     "output_type": "execute_result"
    }
   ],
   "source": [
    "# reset index (0, 1, 2, . . . ) --> adding number index\n",
    "data.reset_index(inplace=True)\n",
    "\n",
    "data.head()"
   ]
  },
  {
   "cell_type": "code",
   "execution_count": 12,
   "metadata": {},
   "outputs": [
    {
     "data": {
      "text/html": [
       "<div>\n",
       "<style scoped>\n",
       "    .dataframe tbody tr th:only-of-type {\n",
       "        vertical-align: middle;\n",
       "    }\n",
       "\n",
       "    .dataframe tbody tr th {\n",
       "        vertical-align: top;\n",
       "    }\n",
       "\n",
       "    .dataframe thead th {\n",
       "        text-align: right;\n",
       "    }\n",
       "</style>\n",
       "<table border=\"1\" class=\"dataframe\">\n",
       "  <thead>\n",
       "    <tr style=\"text-align: right;\">\n",
       "      <th></th>\n",
       "      <th>index</th>\n",
       "      <th>WA_cases</th>\n",
       "      <th>TX_cases</th>\n",
       "      <th>WA_daily</th>\n",
       "      <th>TX_daily</th>\n",
       "    </tr>\n",
       "  </thead>\n",
       "  <tbody>\n",
       "    <tr>\n",
       "      <th>0</th>\n",
       "      <td>1/22/20</td>\n",
       "      <td>1</td>\n",
       "      <td>0</td>\n",
       "      <td>0</td>\n",
       "      <td>0</td>\n",
       "    </tr>\n",
       "    <tr>\n",
       "      <th>1</th>\n",
       "      <td>1/23/20</td>\n",
       "      <td>1</td>\n",
       "      <td>0</td>\n",
       "      <td>0</td>\n",
       "      <td>0</td>\n",
       "    </tr>\n",
       "    <tr>\n",
       "      <th>2</th>\n",
       "      <td>1/24/20</td>\n",
       "      <td>1</td>\n",
       "      <td>0</td>\n",
       "      <td>0</td>\n",
       "      <td>0</td>\n",
       "    </tr>\n",
       "    <tr>\n",
       "      <th>3</th>\n",
       "      <td>1/25/20</td>\n",
       "      <td>1</td>\n",
       "      <td>0</td>\n",
       "      <td>0</td>\n",
       "      <td>0</td>\n",
       "    </tr>\n",
       "    <tr>\n",
       "      <th>4</th>\n",
       "      <td>1/26/20</td>\n",
       "      <td>1</td>\n",
       "      <td>0</td>\n",
       "      <td>0</td>\n",
       "      <td>0</td>\n",
       "    </tr>\n",
       "  </tbody>\n",
       "</table>\n",
       "</div>"
      ],
      "text/plain": [
       "     index  WA_cases  TX_cases  WA_daily  TX_daily\n",
       "0  1/22/20         1         0         0         0\n",
       "1  1/23/20         1         0         0         0\n",
       "2  1/24/20         1         0         0         0\n",
       "3  1/25/20         1         0         0         0\n",
       "4  1/26/20         1         0         0         0"
      ]
     },
     "execution_count": 12,
     "metadata": {},
     "output_type": "execute_result"
    }
   ],
   "source": [
    "# add two new columns and set default values\n",
    "\n",
    "data['WA_daily'] = 0\n",
    "data['TX_daily'] = 0\n",
    "\n",
    "data.head()"
   ]
  },
  {
   "cell_type": "code",
   "execution_count": 13,
   "metadata": {},
   "outputs": [
    {
     "data": {
      "text/html": [
       "<div>\n",
       "<style scoped>\n",
       "    .dataframe tbody tr th:only-of-type {\n",
       "        vertical-align: middle;\n",
       "    }\n",
       "\n",
       "    .dataframe tbody tr th {\n",
       "        vertical-align: top;\n",
       "    }\n",
       "\n",
       "    .dataframe thead th {\n",
       "        text-align: right;\n",
       "    }\n",
       "</style>\n",
       "<table border=\"1\" class=\"dataframe\">\n",
       "  <thead>\n",
       "    <tr style=\"text-align: right;\">\n",
       "      <th></th>\n",
       "      <th>index</th>\n",
       "      <th>WA_cases</th>\n",
       "      <th>TX_cases</th>\n",
       "      <th>WA_daily</th>\n",
       "      <th>TX_daily</th>\n",
       "    </tr>\n",
       "  </thead>\n",
       "  <tbody>\n",
       "    <tr>\n",
       "      <th>622</th>\n",
       "      <td>10/5/21</td>\n",
       "      <td>670207</td>\n",
       "      <td>4105397</td>\n",
       "      <td>2373</td>\n",
       "      <td>12257</td>\n",
       "    </tr>\n",
       "    <tr>\n",
       "      <th>623</th>\n",
       "      <td>10/6/21</td>\n",
       "      <td>672782</td>\n",
       "      <td>4116410</td>\n",
       "      <td>2575</td>\n",
       "      <td>11013</td>\n",
       "    </tr>\n",
       "    <tr>\n",
       "      <th>624</th>\n",
       "      <td>10/7/21</td>\n",
       "      <td>675695</td>\n",
       "      <td>4124391</td>\n",
       "      <td>2913</td>\n",
       "      <td>7981</td>\n",
       "    </tr>\n",
       "    <tr>\n",
       "      <th>625</th>\n",
       "      <td>10/8/21</td>\n",
       "      <td>677995</td>\n",
       "      <td>4128119</td>\n",
       "      <td>2300</td>\n",
       "      <td>3728</td>\n",
       "    </tr>\n",
       "    <tr>\n",
       "      <th>626</th>\n",
       "      <td>10/9/21</td>\n",
       "      <td>677995</td>\n",
       "      <td>4129189</td>\n",
       "      <td>0</td>\n",
       "      <td>1070</td>\n",
       "    </tr>\n",
       "  </tbody>\n",
       "</table>\n",
       "</div>"
      ],
      "text/plain": [
       "       index  WA_cases  TX_cases  WA_daily  TX_daily\n",
       "622  10/5/21    670207   4105397      2373     12257\n",
       "623  10/6/21    672782   4116410      2575     11013\n",
       "624  10/7/21    675695   4124391      2913      7981\n",
       "625  10/8/21    677995   4128119      2300      3728\n",
       "626  10/9/21    677995   4129189         0      1070"
      ]
     },
     "execution_count": 13,
     "metadata": {},
     "output_type": "execute_result"
    }
   ],
   "source": [
    "# calculate daily cases and assign the values\n",
    "\n",
    "for index, row in data.iterrows():\n",
    "    if index==0:\n",
    "        data.loc[index, 'WA_daily'] = data.loc[index, 'WA_cases'] \n",
    "        data.loc[index, 'TX_daily'] = data.loc[index, 'TX_cases'] \n",
    "    else:\n",
    "        data.loc[index, 'WA_daily'] = data.loc[index, 'WA_cases'] - data.loc[index-1, 'WA_cases'] \n",
    "        data.loc[index, 'TX_daily'] = data.loc[index, 'TX_cases'] - data.loc[index-1, 'TX_cases'] \n",
    "\n",
    "    # data clearning (drop error values)\n",
    "    if data.loc[index, 'WA_daily'] < 0:\n",
    "        data.loc[index, 'WA_daily'] = 0\n",
    "    if data.loc[index, 'TX_daily'] < 0:\n",
    "        data.loc[index, 'TX_daily'] = 0\n",
    "\n",
    "data.tail()"
   ]
  },
  {
   "cell_type": "code",
   "execution_count": 14,
   "metadata": {},
   "outputs": [
    {
     "data": {
      "text/html": [
       "<div>\n",
       "<style scoped>\n",
       "    .dataframe tbody tr th:only-of-type {\n",
       "        vertical-align: middle;\n",
       "    }\n",
       "\n",
       "    .dataframe tbody tr th {\n",
       "        vertical-align: top;\n",
       "    }\n",
       "\n",
       "    .dataframe thead th {\n",
       "        text-align: right;\n",
       "    }\n",
       "</style>\n",
       "<table border=\"1\" class=\"dataframe\">\n",
       "  <thead>\n",
       "    <tr style=\"text-align: right;\">\n",
       "      <th></th>\n",
       "      <th>index</th>\n",
       "      <th>WA_cases</th>\n",
       "      <th>TX_cases</th>\n",
       "      <th>WA_daily</th>\n",
       "      <th>TX_daily</th>\n",
       "      <th>day_number</th>\n",
       "    </tr>\n",
       "  </thead>\n",
       "  <tbody>\n",
       "    <tr>\n",
       "      <th>0</th>\n",
       "      <td>1/22/20</td>\n",
       "      <td>1</td>\n",
       "      <td>0</td>\n",
       "      <td>1</td>\n",
       "      <td>0</td>\n",
       "      <td>0</td>\n",
       "    </tr>\n",
       "    <tr>\n",
       "      <th>1</th>\n",
       "      <td>1/23/20</td>\n",
       "      <td>1</td>\n",
       "      <td>0</td>\n",
       "      <td>0</td>\n",
       "      <td>0</td>\n",
       "      <td>1</td>\n",
       "    </tr>\n",
       "    <tr>\n",
       "      <th>2</th>\n",
       "      <td>1/24/20</td>\n",
       "      <td>1</td>\n",
       "      <td>0</td>\n",
       "      <td>0</td>\n",
       "      <td>0</td>\n",
       "      <td>2</td>\n",
       "    </tr>\n",
       "    <tr>\n",
       "      <th>3</th>\n",
       "      <td>1/25/20</td>\n",
       "      <td>1</td>\n",
       "      <td>0</td>\n",
       "      <td>0</td>\n",
       "      <td>0</td>\n",
       "      <td>3</td>\n",
       "    </tr>\n",
       "    <tr>\n",
       "      <th>4</th>\n",
       "      <td>1/26/20</td>\n",
       "      <td>1</td>\n",
       "      <td>0</td>\n",
       "      <td>0</td>\n",
       "      <td>0</td>\n",
       "      <td>4</td>\n",
       "    </tr>\n",
       "  </tbody>\n",
       "</table>\n",
       "</div>"
      ],
      "text/plain": [
       "     index  WA_cases  TX_cases  WA_daily  TX_daily  day_number\n",
       "0  1/22/20         1         0         1         0           0\n",
       "1  1/23/20         1         0         0         0           1\n",
       "2  1/24/20         1         0         0         0           2\n",
       "3  1/25/20         1         0         0         0           3\n",
       "4  1/26/20         1         0         0         0           4"
      ]
     },
     "execution_count": 14,
     "metadata": {},
     "output_type": "execute_result"
    }
   ],
   "source": [
    "# add a new column for the number of days\n",
    "data['day_number'] = data.index\n",
    "\n",
    "data.head()"
   ]
  },
  {
   "cell_type": "markdown",
   "metadata": {},
   "source": [
    "## Part 1\n",
    "\n",
    "### Tasks\n",
    "\n",
    "1. (Optional) Select states you are interested in from the COVID-19 data repository. The above cells contain the data for Washington and Texas. Hence if you would like to change states, you will update the above cells and rerun them. \n",
    "\n",
    "2. Conduct exploratory data analysis on the selected data and visualize the data. This may include the following:\n",
    "\n",
    "(1) Descriptive statistics: mean, median and standard deviation, mininum, maximum and quatiles.\n",
    "\n",
    "(2) Draw boxplots.\n",
    "\n",
    "(3) Draw histograms.\n",
    "\n",
    "(4) Draw scatter plots and calculate correlation coefficient factor r\n",
    "    \n",
    "    - Given an explanatory variable x (e.g., day_number), you display a response variable y (e.g., TX_cases). \n",
    "\n",
    "\n",
    "(5) Choose one tool that has not be used here and apply it on these COVID-19 data. "
   ]
  },
  {
   "cell_type": "markdown",
   "metadata": {},
   "source": [
    "#### Task (1)"
   ]
  },
  {
   "cell_type": "code",
   "execution_count": 15,
   "metadata": {},
   "outputs": [
    {
     "data": {
      "text/html": [
       "<div>\n",
       "<style scoped>\n",
       "    .dataframe tbody tr th:only-of-type {\n",
       "        vertical-align: middle;\n",
       "    }\n",
       "\n",
       "    .dataframe tbody tr th {\n",
       "        vertical-align: top;\n",
       "    }\n",
       "\n",
       "    .dataframe thead th {\n",
       "        text-align: right;\n",
       "    }\n",
       "</style>\n",
       "<table border=\"1\" class=\"dataframe\">\n",
       "  <thead>\n",
       "    <tr style=\"text-align: right;\">\n",
       "      <th></th>\n",
       "      <th>WA_cases</th>\n",
       "      <th>TX_cases</th>\n",
       "      <th>WA_daily</th>\n",
       "      <th>TX_daily</th>\n",
       "      <th>day_number</th>\n",
       "    </tr>\n",
       "  </thead>\n",
       "  <tbody>\n",
       "    <tr>\n",
       "      <th>count</th>\n",
       "      <td>627.000000</td>\n",
       "      <td>6.270000e+02</td>\n",
       "      <td>627.000000</td>\n",
       "      <td>627.000000</td>\n",
       "      <td>627.000000</td>\n",
       "    </tr>\n",
       "    <tr>\n",
       "      <th>mean</th>\n",
       "      <td>228188.105263</td>\n",
       "      <td>1.594144e+06</td>\n",
       "      <td>1081.393939</td>\n",
       "      <td>6585.628389</td>\n",
       "      <td>313.000000</td>\n",
       "    </tr>\n",
       "    <tr>\n",
       "      <th>std</th>\n",
       "      <td>201934.730563</td>\n",
       "      <td>1.349198e+06</td>\n",
       "      <td>1418.237720</td>\n",
       "      <td>6954.203267</td>\n",
       "      <td>181.143589</td>\n",
       "    </tr>\n",
       "    <tr>\n",
       "      <th>min</th>\n",
       "      <td>1.000000</td>\n",
       "      <td>0.000000e+00</td>\n",
       "      <td>0.000000</td>\n",
       "      <td>0.000000</td>\n",
       "      <td>0.000000</td>\n",
       "    </tr>\n",
       "    <tr>\n",
       "      <th>25%</th>\n",
       "      <td>31594.000000</td>\n",
       "      <td>1.434625e+05</td>\n",
       "      <td>212.500000</td>\n",
       "      <td>1324.500000</td>\n",
       "      <td>156.500000</td>\n",
       "    </tr>\n",
       "    <tr>\n",
       "      <th>50%</th>\n",
       "      <td>171962.000000</td>\n",
       "      <td>1.291458e+06</td>\n",
       "      <td>629.000000</td>\n",
       "      <td>4352.000000</td>\n",
       "      <td>313.000000</td>\n",
       "    </tr>\n",
       "    <tr>\n",
       "      <th>75%</th>\n",
       "      <td>410504.000000</td>\n",
       "      <td>2.907719e+06</td>\n",
       "      <td>1428.000000</td>\n",
       "      <td>9285.000000</td>\n",
       "      <td>469.500000</td>\n",
       "    </tr>\n",
       "    <tr>\n",
       "      <th>max</th>\n",
       "      <td>677995.000000</td>\n",
       "      <td>4.129189e+06</td>\n",
       "      <td>11204.000000</td>\n",
       "      <td>40882.000000</td>\n",
       "      <td>626.000000</td>\n",
       "    </tr>\n",
       "  </tbody>\n",
       "</table>\n",
       "</div>"
      ],
      "text/plain": [
       "            WA_cases      TX_cases      WA_daily      TX_daily  day_number\n",
       "count     627.000000  6.270000e+02    627.000000    627.000000  627.000000\n",
       "mean   228188.105263  1.594144e+06   1081.393939   6585.628389  313.000000\n",
       "std    201934.730563  1.349198e+06   1418.237720   6954.203267  181.143589\n",
       "min         1.000000  0.000000e+00      0.000000      0.000000    0.000000\n",
       "25%     31594.000000  1.434625e+05    212.500000   1324.500000  156.500000\n",
       "50%    171962.000000  1.291458e+06    629.000000   4352.000000  313.000000\n",
       "75%    410504.000000  2.907719e+06   1428.000000   9285.000000  469.500000\n",
       "max    677995.000000  4.129189e+06  11204.000000  40882.000000  626.000000"
      ]
     },
     "execution_count": 15,
     "metadata": {},
     "output_type": "execute_result"
    }
   ],
   "source": [
    "data.describe()"
   ]
  },
  {
   "cell_type": "markdown",
   "metadata": {},
   "source": [
    "#### Task (2)"
   ]
  },
  {
   "cell_type": "code",
   "execution_count": 16,
   "metadata": {},
   "outputs": [
    {
     "data": {
      "text/plain": [
       "<AxesSubplot:>"
      ]
     },
     "execution_count": 16,
     "metadata": {},
     "output_type": "execute_result"
    },
    {
     "data": {
      "image/png": "[encoded data removed]",
      "text/plain": [
       "<Figure size 432x288 with 1 Axes>"
      ]
     },
     "metadata": {
      "needs_background": "light"
     },
     "output_type": "display_data"
    }
   ],
   "source": [
    "data.boxplot()"
   ]
  },
  {
   "cell_type": "markdown",
   "metadata": {},
   "source": [
    "#### Task (3)"
   ]
  },
  {
   "cell_type": "code",
   "execution_count": 17,
   "metadata": {},
   "outputs": [
    {
     "data": {
      "text/plain": [
       "array([[<AxesSubplot:title={'center':'WA_cases'}>,\n",
       "        <AxesSubplot:title={'center':'TX_cases'}>],\n",
       "       [<AxesSubplot:title={'center':'WA_daily'}>,\n",
       "        <AxesSubplot:title={'center':'TX_daily'}>],\n",
       "       [<AxesSubplot:title={'center':'day_number'}>, <AxesSubplot:>]],\n",
       "      dtype=object)"
      ]
     },
     "execution_count": 17,
     "metadata": {},
     "output_type": "execute_result"
    },
    {
     "data": {
      "image/png": "[encoded data removed]",
      "text/plain": [
       "<Figure size 432x288 with 6 Axes>"
      ]
     },
     "metadata": {
      "needs_background": "light"
     },
     "output_type": "display_data"
    }
   ],
   "source": [
    "data.hist()"
   ]
  },
  {
   "cell_type": "markdown",
   "metadata": {},
   "source": [
    "#### Task (4)"
   ]
  },
  {
   "cell_type": "code",
   "execution_count": 22,
   "metadata": {},
   "outputs": [
    {
     "data": {
      "text/plain": [
       "<AxesSubplot:xlabel='TX_cases', ylabel='TX_daily'>"
      ]
     },
     "execution_count": 22,
     "metadata": {},
     "output_type": "execute_result"
    },
    {
     "data": {
      "image/png": "[encoded data removed]",
      "text/plain": [
       "<Figure size 432x288 with 1 Axes>"
      ]
     },
     "metadata": {
      "needs_background": "light"
     },
     "output_type": "display_data"
    },
    {
     "data": {
      "image/png": "[encoded data removed]",
      "text/plain": [
       "<Figure size 432x288 with 1 Axes>"
      ]
     },
     "metadata": {
      "needs_background": "light"
     },
     "output_type": "display_data"
    },
    {
     "data": {
      "image/png": "[encoded data removed]",
      "text/plain": [
       "<Figure size 432x288 with 1 Axes>"
      ]
     },
     "metadata": {
      "needs_background": "light"
     },
     "output_type": "display_data"
    },
    {
     "data": {
      "image/png": "[encoded data removed]",
      "text/plain": [
       "<Figure size 432x288 with 1 Axes>"
      ]
     },
     "metadata": {
      "needs_background": "light"
     },
     "output_type": "display_data"
    },
    {
     "data": {
      "image/png": "[encoded data removed]",
      "text/plain": [
       "<Figure size 432x288 with 1 Axes>"
      ]
     },
     "metadata": {
      "needs_background": "light"
     },
     "output_type": "display_data"
    },
    {
     "data": {
      "image/png": "[encoded data removed]",
      "text/plain": [
       "<Figure size 432x288 with 1 Axes>"
      ]
     },
     "metadata": {
      "needs_background": "light"
     },
     "output_type": "display_data"
    },
    {
     "data": {
      "image/png": "[encoded data removed]",
      "text/plain": [
       "<Figure size 432x288 with 1 Axes>"
      ]
     },
     "metadata": {
      "needs_background": "light"
     },
     "output_type": "display_data"
    },
    {
     "data": {
      "image/png": "[encoded data removed]",
      "text/plain": [
       "<Figure size 432x288 with 1 Axes>"
      ]
     },
     "metadata": {
      "needs_background": "light"
     },
     "output_type": "display_data"
    }
   ],
   "source": [
    "data.plot.scatter(x=\"day_number\", y=\"WA_cases\")\n",
    "data.plot.scatter(x=\"day_number\", y=\"WA_daily\")\n",
    "data.plot.scatter(x=\"day_number\", y=\"TX_cases\")\n",
    "data.plot.scatter(x=\"day_number\", y=\"TX_daily\")\n",
    "data.plot.scatter(x=\"WA_cases\", y=\"TX_cases\")\n",
    "data.plot.scatter(x=\"WA_daily\", y=\"TX_daily\")\n",
    "data.plot.scatter(x=\"WA_cases\", y=\"WA_daily\")\n",
    "data.plot.scatter(x=\"TX_cases\", y=\"TX_daily\")"
   ]
  },
  {
   "cell_type": "markdown",
   "metadata": {},
   "source": [
    "#### Task (5)"
   ]
  },
  {
   "cell_type": "code",
   "execution_count": 23,
   "metadata": {},
   "outputs": [
    {
     "data": {
      "text/plain": [
       "<AxesSubplot:>"
      ]
     },
     "execution_count": 23,
     "metadata": {},
     "output_type": "execute_result"
    },
    {
     "data": {
      "image/png": "[encoded data removed]",
      "text/plain": [
       "<Figure size 432x288 with 1 Axes>"
      ]
     },
     "metadata": {
      "needs_background": "light"
     },
     "output_type": "display_data"
    }
   ],
   "source": [
    "data.plot.bar()"
   ]
  },
  {
   "cell_type": "markdown",
   "metadata": {},
   "source": [
    "## Part 2\n",
    "\n",
    "Write a summary of what you find from the data analysis. "
   ]
  },
  {
   "cell_type": "code",
   "execution_count": 26,
   "metadata": {},
   "outputs": [
    {
     "name": "stdout",
     "output_type": "stream",
     "text": [
      "From this data, in comparing Washington and Texas cases, the most significant find is that there is a significantly larger number of cases in Texas compared to Washington irrespective to the number of day. As the days increase, so to does the cases for both states while Texas leads at a seemingly exponential rate in comparison.\n"
     ]
    }
   ],
   "source": [
    "print(\"From this data, in comparing Washington and Texas cases, the most significant find is that there is a significantly larger number of cases in Texas compared to Washington irrespective to the number of day. As the days increase, so to does the cases for both states while Texas leads at a seemingly exponential rate in comparison.\")"
   ]
  },
  {
   "cell_type": "markdown",
   "metadata": {},
   "source": [
    "### Resources\n",
    "\n",
    "#### Boxplot\n",
    "https://towardsdatascience.com/understanding-boxplots-5e2df7bcbd51\n",
    "\n",
    "\n",
    "- matplotlib.pyplot boxplot demo\n",
    "https://matplotlib.org/3.1.1/gallery/pyplots/boxplot_demo_pyplot.html\n",
    "\n",
    "\n",
    "#### matplotlib.pyplot\n",
    "- scatter plot\n",
    "https://matplotlib.org/3.3.2/api/_as_gen/matplotlib.pyplot.scatter.html\n",
    "\n",
    "\n",
    "- histogram plot\n",
    "https://matplotlib.org/3.3.2/api/_as_gen/matplotlib.pyplot.hist.html\n",
    "\n",
    "\n",
    "#### pandas DataFrame\n",
    "https://pandas.pydata.org/pandas-docs/stable/reference/api/pandas.DataFrame.html\n",
    "\n",
    "\n",
    "- describe()\n",
    "https://pandas.pydata.org/pandas-docs/stable/reference/api/pandas.DataFrame.describe.html\n",
    "\n",
    "\n",
    "- corr()\n",
    "https://pandas.pydata.org/pandas-docs/stable/reference/api/pandas.DataFrame.corr.html\n",
    "\n",
    "\n",
    "- hist()\n",
    "https://pandas.pydata.org/pandas-docs/stable/reference/api/pandas.DataFrame.hist.html\n",
    "\n",
    "\n",
    "- plot.scatter()\n",
    "https://pandas.pydata.org/pandas-docs/stable/reference/api/pandas.DataFrame.plot.scatter.html\n",
    "\n",
    "\n",
    "- pivot()\n",
    "https://pandas.pydata.org/pandas-docs/stable/reference/api/pandas.DataFrame.pivot.html"
   ]
  },
  {
   "cell_type": "code",
   "execution_count": null,
   "metadata": {},
   "outputs": [],
   "source": []
  }
 ],
 "metadata": {
  "interpreter": {
   "hash": "816fbe9b29bb35a06abcb164ab2829d6e65a2451a228026875885c695b62666f"
  },
  "kernelspec": {
   "display_name": "Python 3.9.7 64-bit",
   "name": "python3"
  },
  "language_info": {
   "codemirror_mode": {
    "name": "ipython",
    "version": 3
   },
   "file_extension": ".py",
   "mimetype": "text/x-python",
   "name": "python",
   "nbconvert_exporter": "python",
   "pygments_lexer": "ipython3",
   "version": "3.9.7"
  }
 },
 "nbformat": 4,
 "nbformat_minor": 2
}
